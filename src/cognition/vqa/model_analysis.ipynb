{
    "cells": [
        {
            "cell_type": "code",
            "execution_count": 21,
            "metadata": {},
            "outputs": [
                {
                    "name": "stdout",
                    "output_type": "stream",
                    "text": [
                        "TF version: 2.13.1\n"
                    ]
                },
                {
                    "ename": "AttributeError",
                    "evalue": "module 'tensorflow_model_analysis.version' has no attribute 'VERSION_STRING'",
                    "output_type": "error",
                    "traceback": [
                        "\u001b[0;31m---------------------------------------------------------------------------\u001b[0m",
                        "\u001b[0;31mAttributeError\u001b[0m                            Traceback (most recent call last)",
                        "\u001b[0;32m/tmp/ipykernel_11898/4251159458.py\u001b[0m in \u001b[0;36m<cell line: 8>\u001b[0;34m()\u001b[0m\n\u001b[1;32m      6\u001b[0m \u001b[0;32mimport\u001b[0m \u001b[0mtensorflow_model_analysis\u001b[0m \u001b[0;32mas\u001b[0m \u001b[0mtfma\u001b[0m\u001b[0;34m\u001b[0m\u001b[0;34m\u001b[0m\u001b[0m\n\u001b[1;32m      7\u001b[0m \u001b[0mprint\u001b[0m\u001b[0;34m(\u001b[0m\u001b[0;34m'TF version: {}'\u001b[0m\u001b[0;34m.\u001b[0m\u001b[0mformat\u001b[0m\u001b[0;34m(\u001b[0m\u001b[0mtf\u001b[0m\u001b[0;34m.\u001b[0m\u001b[0mversion\u001b[0m\u001b[0;34m.\u001b[0m\u001b[0mVERSION\u001b[0m\u001b[0;34m)\u001b[0m\u001b[0;34m)\u001b[0m\u001b[0;34m\u001b[0m\u001b[0;34m\u001b[0m\u001b[0m\n\u001b[0;32m----> 8\u001b[0;31m \u001b[0mprint\u001b[0m\u001b[0;34m(\u001b[0m\u001b[0;34m'TFMA version: {}'\u001b[0m\u001b[0;34m.\u001b[0m\u001b[0mformat\u001b[0m\u001b[0;34m(\u001b[0m\u001b[0mtfma\u001b[0m\u001b[0;34m.\u001b[0m\u001b[0mversion\u001b[0m\u001b[0;34m.\u001b[0m\u001b[0mVERSION_STRING\u001b[0m\u001b[0;34m)\u001b[0m\u001b[0;34m)\u001b[0m\u001b[0;34m\u001b[0m\u001b[0;34m\u001b[0m\u001b[0m\n\u001b[0m",
                        "\u001b[0;31mAttributeError\u001b[0m: module 'tensorflow_model_analysis.version' has no attribute 'VERSION_STRING'"
                    ]
                }
            ],
            "source": [
                "# import required libs\n",
                "import glob\n",
                "import os\n",
                "\n",
                "import tensorflow as tf\n",
                "import tensorflow_model_analysis as tfma\n",
                "print('TF version: {}'.format(tf.version.VERSION))\n",
                "print('TFMA version: {}'.format(tfma.version.VERSION_STRING))"
            ]
        },
        {
            "cell_type": "code",
            "execution_count": null,
            "metadata": {},
            "outputs": [],
            "source": [
                "# Read artifact information from metadata store.\n",
                "import beam_dag_runner\n",
                "\n",
                "from tfx.orchestration import metadata\n",
                "from tfx.types import standard_artifacts\n",
                "\n",
                "metadata_connection_config = metadata.sqlite_metadata_connection_config(\n",
                "              beam_dag_runner.METADATA_PATH)\n",
                "with metadata.Metadata(metadata_connection_config) as store:\n",
                "    model_eval_artifacts = store.get_artifacts_by_type(standard_artifacts.ModelEvaluation.TYPE_NAME)"
            ]
        },
        {
            "cell_type": "code",
            "execution_count": null,
            "metadata": {},
            "outputs": [],
            "source": [
                "# configure output paths\n",
                "# Exact paths to output artifacts can be found in the execution logs\n",
                "# or KFP Web UI if you are using kubeflow.\n",
                "model_eval_path = model_eval_artifacts[-1].uri\n",
                "print(\"Generated model evaluation result:{}\".format(model_eval_path))"
            ]
        },
        {
            "cell_type": "markdown",
            "metadata": {},
            "source": [
                "## Install Jupyter Extensions\n",
                "Note: If running in a local Jupyter notebook, then these Jupyter extensions must be installed in the environment before running Jupyter.\n",
                "\n",
                "```bash\n",
                "jupyter nbextension enable --py widgetsnbextension\n",
                "jupyter nbextension install --py --symlink tensorflow_model_analysis\n",
                "jupyter nbextension enable --py tensorflow_model_analysis\n",
                "```"
            ]
        },
        {
            "cell_type": "code",
            "execution_count": null,
            "metadata": {},
            "outputs": [],
            "source": [
                "eval_result = tfma.load_eval_result(model_eval_path)\n",
                "tfma.view.render_slicing_metrics(eval_result, slicing_spec = tfma.slicer.SingleSliceSpec(columns=['trip_start_hour']))"
            ]
        },
        {
            "cell_type": "code",
            "execution_count": 5,
            "metadata": {},
            "outputs": [],
            "source": [
                "from ml_metadata.metadata_store.metadata_store import metadata_store_pb2"
            ]
        },
        {
            "cell_type": "code",
            "execution_count": 19,
            "metadata": {},
            "outputs": [],
            "source": [
                "# connection_config = metadata_store_pb2.ConnectionConfig()\n",
                "# connection_config.mysql.host = '...'\n",
                "# connection_config.mysql.port = '...'\n",
                "# connection_config.mysql.database = '...'\n",
                "# connection_config.mysql.user = '...'\n",
                "# connection_config.mysql.password = '...'\n",
                "# store = metadata_store.MetadataStore(connection_config)\n",
                "\n",
                "\n",
                "from tfx.orchestration import metadata\n",
                "from tfx.types import standard_artifacts\n",
                "\n",
                "# metadata_connection_config = metadata.sqlite_metadata_connection_config(\n",
                "#               beam_dag_runner.METADATA_PATH)\n",
                "\n",
                "# connection_config = metadata_store_pb2.ConnectionConfig()\n",
                "# connection_config.mysql.host = 'localhost'\n",
                "# connection_config.mysql.port = '3306'\n",
                "# connection_config.mysql.database = '...'\n",
                "# connection_config.mysql.user = '...'\n",
                "# connection_config.mysql.password = '...'\n",
                "\n",
                "\n",
                "# NOTE: make sure to have forwarded to metadata grpc server in your development/prod server to connect to it.\n",
                "# e.g. kubectl port-forward service/metadata-grpc-service 7000:8080\n",
                "metadata_config = metadata_store_pb2.MetadataStoreClientConfig()\n",
                "metadata_config.host = \"localhost\"\n",
                "metadata_config.port = 7000"
            ]
        },
        {
            "cell_type": "code",
            "execution_count": 18,
            "metadata": {},
            "outputs": [],
            "source": [
                "\n",
                "with metadata.Metadata(metadata_config) as store:\n",
                "    model_eval_artifacts = store.get_artifacts_by_type(standard_artifacts.ModelEvaluation.TYPE_NAME)"
            ]
        },
        {
            "cell_type": "code",
            "execution_count": 22,
            "metadata": {},
            "outputs": [
                {
                    "name": "stdout",
                    "output_type": "stream",
                    "text": [
                        "Generated model evaluation result:/local/projects/pixelml/artifacts/tfx_pipeline_output/kubeflow-taxi/Evaluator/evaluation/24\n"
                    ]
                },
                {
                    "ename": "ValueError",
                    "evalue": "No slices found for SingleSliceSpec(columns=frozenset({'trip_start_hour'}), features=frozenset())",
                    "output_type": "error",
                    "traceback": [
                        "\u001b[0;31m---------------------------------------------------------------------------\u001b[0m",
                        "\u001b[0;31mValueError\u001b[0m                                Traceback (most recent call last)",
                        "\u001b[0;32m/tmp/ipykernel_11898/1807332438.py\u001b[0m in \u001b[0;36m<cell line: 4>\u001b[0;34m()\u001b[0m\n\u001b[1;32m      2\u001b[0m \u001b[0mprint\u001b[0m\u001b[0;34m(\u001b[0m\u001b[0;34m\"Generated model evaluation result:{}\"\u001b[0m\u001b[0;34m.\u001b[0m\u001b[0mformat\u001b[0m\u001b[0;34m(\u001b[0m\u001b[0mmodel_eval_path\u001b[0m\u001b[0;34m)\u001b[0m\u001b[0;34m)\u001b[0m\u001b[0;34m\u001b[0m\u001b[0;34m\u001b[0m\u001b[0m\n\u001b[1;32m      3\u001b[0m \u001b[0meval_result\u001b[0m \u001b[0;34m=\u001b[0m \u001b[0mtfma\u001b[0m\u001b[0;34m.\u001b[0m\u001b[0mload_eval_result\u001b[0m\u001b[0;34m(\u001b[0m\u001b[0mmodel_eval_path\u001b[0m\u001b[0;34m)\u001b[0m\u001b[0;34m\u001b[0m\u001b[0;34m\u001b[0m\u001b[0m\n\u001b[0;32m----> 4\u001b[0;31m \u001b[0mtfma\u001b[0m\u001b[0;34m.\u001b[0m\u001b[0mview\u001b[0m\u001b[0;34m.\u001b[0m\u001b[0mrender_slicing_metrics\u001b[0m\u001b[0;34m(\u001b[0m\u001b[0meval_result\u001b[0m\u001b[0;34m,\u001b[0m \u001b[0mslicing_spec\u001b[0m \u001b[0;34m=\u001b[0m \u001b[0mtfma\u001b[0m\u001b[0;34m.\u001b[0m\u001b[0mslicer\u001b[0m\u001b[0;34m.\u001b[0m\u001b[0mSingleSliceSpec\u001b[0m\u001b[0;34m(\u001b[0m\u001b[0mcolumns\u001b[0m\u001b[0;34m=\u001b[0m\u001b[0;34m[\u001b[0m\u001b[0;34m'trip_start_hour'\u001b[0m\u001b[0;34m]\u001b[0m\u001b[0;34m)\u001b[0m\u001b[0;34m)\u001b[0m\u001b[0;34m\u001b[0m\u001b[0;34m\u001b[0m\u001b[0m\n\u001b[0m",
                        "\u001b[0;32m/workspaces/PixelML/src/cognition/venv/lib/python3.8/site-packages/tensorflow_model_analysis/view/widget_view.py\u001b[0m in \u001b[0;36mrender_slicing_metrics\u001b[0;34m(result, slicing_column, slicing_spec, weighted_example_column, event_handlers)\u001b[0m\n\u001b[1;32m     50\u001b[0m   \u001b[0;32mif\u001b[0m \u001b[0mslicing_spec\u001b[0m \u001b[0;32mand\u001b[0m \u001b[0misinstance\u001b[0m\u001b[0;34m(\u001b[0m\u001b[0mslicing_spec\u001b[0m\u001b[0;34m,\u001b[0m \u001b[0mconfig_pb2\u001b[0m\u001b[0;34m.\u001b[0m\u001b[0mSlicingSpec\u001b[0m\u001b[0;34m)\u001b[0m\u001b[0;34m:\u001b[0m\u001b[0;34m\u001b[0m\u001b[0;34m\u001b[0m\u001b[0m\n\u001b[1;32m     51\u001b[0m     \u001b[0mslicing_spec\u001b[0m \u001b[0;34m=\u001b[0m \u001b[0mslicer\u001b[0m\u001b[0;34m.\u001b[0m\u001b[0mSingleSliceSpec\u001b[0m\u001b[0;34m(\u001b[0m\u001b[0mspec\u001b[0m\u001b[0;34m=\u001b[0m\u001b[0mslicing_spec\u001b[0m\u001b[0;34m)\u001b[0m\u001b[0;34m\u001b[0m\u001b[0;34m\u001b[0m\u001b[0m\n\u001b[0;32m---> 52\u001b[0;31m   data = util.get_slicing_metrics(result.slicing_metrics, slicing_column,\n\u001b[0m\u001b[1;32m     53\u001b[0m                                   slicing_spec)\n\u001b[1;32m     54\u001b[0m   \u001b[0mcfg\u001b[0m \u001b[0;34m=\u001b[0m \u001b[0mutil\u001b[0m\u001b[0;34m.\u001b[0m\u001b[0mget_slicing_config\u001b[0m\u001b[0;34m(\u001b[0m\u001b[0mresult\u001b[0m\u001b[0;34m.\u001b[0m\u001b[0mconfig\u001b[0m\u001b[0;34m,\u001b[0m \u001b[0mweighted_example_column\u001b[0m\u001b[0;34m)\u001b[0m\u001b[0;34m\u001b[0m\u001b[0;34m\u001b[0m\u001b[0m\n",
                        "\u001b[0;32m/workspaces/PixelML/src/cognition/venv/lib/python3.8/site-packages/tensorflow_model_analysis/view/util.py\u001b[0m in \u001b[0;36mget_slicing_metrics\u001b[0;34m(results, slicing_column, slicing_spec)\u001b[0m\n\u001b[1;32m     72\u001b[0m       \u001b[0;32mraise\u001b[0m \u001b[0mValueError\u001b[0m\u001b[0;34m(\u001b[0m\u001b[0;34m'No slices found for %s'\u001b[0m \u001b[0;34m%\u001b[0m \u001b[0mslicing_column\u001b[0m\u001b[0;34m)\u001b[0m\u001b[0;34m\u001b[0m\u001b[0;34m\u001b[0m\u001b[0m\n\u001b[1;32m     73\u001b[0m     \u001b[0;32melse\u001b[0m\u001b[0;34m:\u001b[0m\u001b[0;34m\u001b[0m\u001b[0;34m\u001b[0m\u001b[0m\n\u001b[0;32m---> 74\u001b[0;31m       \u001b[0;32mraise\u001b[0m \u001b[0mValueError\u001b[0m\u001b[0;34m(\u001b[0m\u001b[0;34m'No slices found for %s'\u001b[0m \u001b[0;34m%\u001b[0m \u001b[0mslicing_spec\u001b[0m\u001b[0;34m)\u001b[0m\u001b[0;34m\u001b[0m\u001b[0;34m\u001b[0m\u001b[0m\n\u001b[0m\u001b[1;32m     75\u001b[0m   \u001b[0;32melif\u001b[0m \u001b[0;32mnot\u001b[0m \u001b[0mslicing_column\u001b[0m \u001b[0;32mand\u001b[0m \u001b[0;32mnot\u001b[0m \u001b[0mslicing_spec\u001b[0m \u001b[0;32mand\u001b[0m \u001b[0mslice_count\u001b[0m \u001b[0;34m>\u001b[0m \u001b[0;36m1\u001b[0m\u001b[0;34m:\u001b[0m\u001b[0;34m\u001b[0m\u001b[0;34m\u001b[0m\u001b[0m\n\u001b[1;32m     76\u001b[0m     raise ValueError('More than one slice found for %s' %\n",
                        "\u001b[0;31mValueError\u001b[0m: No slices found for SingleSliceSpec(columns=frozenset({'trip_start_hour'}), features=frozenset())"
                    ]
                }
            ],
            "source": [
                "\n",
                "model_eval_path = model_eval_artifacts[-1].uri\n",
                "print(\"Generated model evaluation result:{}\".format(model_eval_path))\n",
                "eval_result = tfma.load_eval_result(model_eval_path)\n",
                "tfma.view.render_slicing_metrics(eval_result, slicing_spec = tfma.slicer.SingleSliceSpec(columns=['trip_start_hour']))"
            ]
        },
        {
            "cell_type": "code",
            "execution_count": null,
            "metadata": {},
            "outputs": [],
            "source": []
        }
    ],
    "metadata": {
        "kernelspec": {
            "display_name": "Python 3",
            "language": "python",
            "name": "python3"
        },
        "language_info": {
            "codemirror_mode": {
                "name": "ipython",
                "version": 3
            },
            "file_extension": ".py",
            "mimetype": "text/x-python",
            "name": "python",
            "nbconvert_exporter": "python",
            "pygments_lexer": "ipython3",
            "version": "3.8.18"
        },
        "pycharm": {
            "stem_cell": {
                "cell_type": "raw",
                "metadata": {
                    "collapsed": false
                },
                "source": []
            }
        }
    },
    "nbformat": 4,
    "nbformat_minor": 2
}