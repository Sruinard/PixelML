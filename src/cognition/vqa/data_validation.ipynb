{
    "cells": [
        {
            "cell_type": "code",
            "execution_count": 3,
            "metadata": {},
            "outputs": [
                {
                    "name": "stdout",
                    "output_type": "stream",
                    "text": [
                        "TF version: 2.12.0\n",
                        "TFDV version: 1.14.0\n"
                    ]
                }
            ],
            "source": [
                "# import required libs\n",
                "import glob\n",
                "import os\n",
                "\n",
                "import tensorflow as tf\n",
                "import tensorflow_data_validation as tfdv\n",
                "print('TF version: {}'.format(tf.version.VERSION))\n",
                "print('TFDV version: {}'.format(tfdv.version.__version__))"
            ]
        },
        {
            "cell_type": "code",
            "execution_count": 7,
            "metadata": {},
            "outputs": [],
            "source": [
                "# Read artifact information from metadata store.\n",
                "# import beam_dag_runner\n",
                "\n",
                "from tfx.orchestration import metadata\n",
                "from tfx.types import standard_artifacts\n",
                "from ml_metadata.metadata_store.metadata_store import metadata_store_pb2\n",
                "\n",
                "# NOTE: make sure to have forwarded to metadata grpc server in your development/prod server to connect to it.\n",
                "# e.g. kubectl port-forward service/metadata-grpc-service 7000:8080 -n kubeflow\n",
                "metadata_connection_config = metadata_store_pb2.MetadataStoreClientConfig()\n",
                "metadata_connection_config.host = \"localhost\"\n",
                "metadata_connection_config.port = 7000\n",
                "with metadata.Metadata(metadata_connection_config) as store:\n",
                "    stats_artifacts = store.get_artifacts_by_type(standard_artifacts.ExampleStatistics.TYPE_NAME)\n",
                "    schema_artifacts = store.get_artifacts_by_type(standard_artifacts.Schema.TYPE_NAME)\n",
                "    anomalies_artifacts = store.get_artifacts_by_type(standard_artifacts.ExampleAnomalies.TYPE_NAME)\n"
            ]
        },
        {
            "cell_type": "code",
            "execution_count": 8,
            "metadata": {},
            "outputs": [],
            "source": [
                "filtered_stats = [x for x in stats_artifacts if \"StatisticsGen\" in x.uri]\n",
                "filtered_schema = [x for x in schema_artifacts if \"SchemaGen\" in x.uri]\n"
            ]
        },
        {
            "cell_type": "code",
            "execution_count": 9,
            "metadata": {},
            "outputs": [
                {
                    "data": {
                        "text/plain": [
                            "[]"
                        ]
                    },
                    "execution_count": 9,
                    "metadata": {},
                    "output_type": "execute_result"
                }
            ],
            "source": [
                "filtered_stats"
            ]
        },
        {
            "cell_type": "code",
            "execution_count": 10,
            "metadata": {},
            "outputs": [
                {
                    "ename": "IndexError",
                    "evalue": "list index out of range",
                    "output_type": "error",
                    "traceback": [
                        "\u001b[0;31m---------------------------------------------------------------------------\u001b[0m",
                        "\u001b[0;31mIndexError\u001b[0m                                Traceback (most recent call last)",
                        "\u001b[1;32m/workspaces/PixelML/src/cognition/taxi/data_validation.ipynb Cell 6\u001b[0m line \u001b[0;36m3\n\u001b[1;32m      <a href='vscode-notebook-cell://dev-container%2B7b22686f737450617468223a222f55736572732f737465667275696e6172642f446f63756d656e74732f706572736f6e616c2f70726f6a656374732f3230323331305f736161735f737461727475702f506978656c4d4c2f506978656c4d4c2e636f64652d776f726b7370616365222c226c6f63616c446f636b6572223a66616c73652c2273657474696e6773223a7b22636f6e74657874223a226465736b746f702d6c696e7578227d2c22636f6e66696746696c65223a7b22246d6964223a312c22667350617468223a222f55736572732f737465667275696e6172642f446f63756d656e74732f706572736f6e616c2f70726f6a656374732f3230323331305f736161735f737461727475702f506978656c4d4c2f2e646576636f6e7461696e65722f646576636f6e7461696e65722e6a736f6e222c2265787465726e616c223a2266696c653a2f2f2f55736572732f737465667275696e6172642f446f63756d656e74732f706572736f6e616c2f70726f6a656374732f3230323331305f736161735f737461727475702f506978656c4d4c2f2e646576636f6e7461696e65722f646576636f6e7461696e65722e6a736f6e222c2270617468223a222f55736572732f737465667275696e6172642f446f63756d656e74732f706572736f6e616c2f70726f6a656374732f3230323331305f736161735f737461727475702f506978656c4d4c2f2e646576636f6e7461696e65722f646576636f6e7461696e65722e6a736f6e222c22736368656d65223a2266696c65227d7d/workspaces/PixelML/src/cognition/taxi/data_validation.ipynb#W5sdnNjb2RlLXJlbW90ZQ%3D%3D?line=0'>1</a>\u001b[0m \u001b[39m# configure output paths\u001b[39;00m\n\u001b[1;32m      <a href='vscode-notebook-cell://dev-container%2B7b22686f737450617468223a222f55736572732f737465667275696e6172642f446f63756d656e74732f706572736f6e616c2f70726f6a656374732f3230323331305f736161735f737461727475702f506978656c4d4c2f506978656c4d4c2e636f64652d776f726b7370616365222c226c6f63616c446f636b6572223a66616c73652c2273657474696e6773223a7b22636f6e74657874223a226465736b746f702d6c696e7578227d2c22636f6e66696746696c65223a7b22246d6964223a312c22667350617468223a222f55736572732f737465667275696e6172642f446f63756d656e74732f706572736f6e616c2f70726f6a656374732f3230323331305f736161735f737461727475702f506978656c4d4c2f2e646576636f6e7461696e65722f646576636f6e7461696e65722e6a736f6e222c2265787465726e616c223a2266696c653a2f2f2f55736572732f737465667275696e6172642f446f63756d656e74732f706572736f6e616c2f70726f6a656374732f3230323331305f736161735f737461727475702f506978656c4d4c2f2e646576636f6e7461696e65722f646576636f6e7461696e65722e6a736f6e222c2270617468223a222f55736572732f737465667275696e6172642f446f63756d656e74732f706572736f6e616c2f70726f6a656374732f3230323331305f736161735f737461727475702f506978656c4d4c2f2e646576636f6e7461696e65722f646576636f6e7461696e65722e6a736f6e222c22736368656d65223a2266696c65227d7d/workspaces/PixelML/src/cognition/taxi/data_validation.ipynb#W5sdnNjb2RlLXJlbW90ZQ%3D%3D?line=1'>2</a>\u001b[0m \u001b[39m# Exact paths to output artifacts can also be found on KFP Web UI if you are using kubeflow.\u001b[39;00m\n\u001b[0;32m----> <a href='vscode-notebook-cell://dev-container%2B7b22686f737450617468223a222f55736572732f737465667275696e6172642f446f63756d656e74732f706572736f6e616c2f70726f6a656374732f3230323331305f736161735f737461727475702f506978656c4d4c2f506978656c4d4c2e636f64652d776f726b7370616365222c226c6f63616c446f636b6572223a66616c73652c2273657474696e6773223a7b22636f6e74657874223a226465736b746f702d6c696e7578227d2c22636f6e66696746696c65223a7b22246d6964223a312c22667350617468223a222f55736572732f737465667275696e6172642f446f63756d656e74732f706572736f6e616c2f70726f6a656374732f3230323331305f736161735f737461727475702f506978656c4d4c2f2e646576636f6e7461696e65722f646576636f6e7461696e65722e6a736f6e222c2265787465726e616c223a2266696c653a2f2f2f55736572732f737465667275696e6172642f446f63756d656e74732f706572736f6e616c2f70726f6a656374732f3230323331305f736161735f737461727475702f506978656c4d4c2f2e646576636f6e7461696e65722f646576636f6e7461696e65722e6a736f6e222c2270617468223a222f55736572732f737465667275696e6172642f446f63756d656e74732f706572736f6e616c2f70726f6a656374732f3230323331305f736161735f737461727475702f506978656c4d4c2f2e646576636f6e7461696e65722f646576636f6e7461696e65722e6a736f6e222c22736368656d65223a2266696c65227d7d/workspaces/PixelML/src/cognition/taxi/data_validation.ipynb#W5sdnNjb2RlLXJlbW90ZQ%3D%3D?line=2'>3</a>\u001b[0m stats_path \u001b[39m=\u001b[39m filtered_stats[\u001b[39m-\u001b[39;49m\u001b[39m1\u001b[39;49m]\u001b[39m.\u001b[39muri\n\u001b[1;32m      <a href='vscode-notebook-cell://dev-container%2B7b22686f737450617468223a222f55736572732f737465667275696e6172642f446f63756d656e74732f706572736f6e616c2f70726f6a656374732f3230323331305f736161735f737461727475702f506978656c4d4c2f506978656c4d4c2e636f64652d776f726b7370616365222c226c6f63616c446f636b6572223a66616c73652c2273657474696e6773223a7b22636f6e74657874223a226465736b746f702d6c696e7578227d2c22636f6e66696746696c65223a7b22246d6964223a312c22667350617468223a222f55736572732f737465667275696e6172642f446f63756d656e74732f706572736f6e616c2f70726f6a656374732f3230323331305f736161735f737461727475702f506978656c4d4c2f2e646576636f6e7461696e65722f646576636f6e7461696e65722e6a736f6e222c2265787465726e616c223a2266696c653a2f2f2f55736572732f737465667275696e6172642f446f63756d656e74732f706572736f6e616c2f70726f6a656374732f3230323331305f736161735f737461727475702f506978656c4d4c2f2e646576636f6e7461696e65722f646576636f6e7461696e65722e6a736f6e222c2270617468223a222f55736572732f737465667275696e6172642f446f63756d656e74732f706572736f6e616c2f70726f6a656374732f3230323331305f736161735f737461727475702f506978656c4d4c2f2e646576636f6e7461696e65722f646576636f6e7461696e65722e6a736f6e222c22736368656d65223a2266696c65227d7d/workspaces/PixelML/src/cognition/taxi/data_validation.ipynb#W5sdnNjb2RlLXJlbW90ZQ%3D%3D?line=3'>4</a>\u001b[0m train_stats_file \u001b[39m=\u001b[39m os\u001b[39m.\u001b[39mpath\u001b[39m.\u001b[39mjoin(stats_path, \u001b[39m'\u001b[39m\u001b[39mSplit-train\u001b[39m\u001b[39m'\u001b[39m, \u001b[39m'\u001b[39m\u001b[39mFeatureStats.pb\u001b[39m\u001b[39m'\u001b[39m)\n\u001b[1;32m      <a href='vscode-notebook-cell://dev-container%2B7b22686f737450617468223a222f55736572732f737465667275696e6172642f446f63756d656e74732f706572736f6e616c2f70726f6a656374732f3230323331305f736161735f737461727475702f506978656c4d4c2f506978656c4d4c2e636f64652d776f726b7370616365222c226c6f63616c446f636b6572223a66616c73652c2273657474696e6773223a7b22636f6e74657874223a226465736b746f702d6c696e7578227d2c22636f6e66696746696c65223a7b22246d6964223a312c22667350617468223a222f55736572732f737465667275696e6172642f446f63756d656e74732f706572736f6e616c2f70726f6a656374732f3230323331305f736161735f737461727475702f506978656c4d4c2f2e646576636f6e7461696e65722f646576636f6e7461696e65722e6a736f6e222c2265787465726e616c223a2266696c653a2f2f2f55736572732f737465667275696e6172642f446f63756d656e74732f706572736f6e616c2f70726f6a656374732f3230323331305f736161735f737461727475702f506978656c4d4c2f2e646576636f6e7461696e65722f646576636f6e7461696e65722e6a736f6e222c2270617468223a222f55736572732f737465667275696e6172642f446f63756d656e74732f706572736f6e616c2f70726f6a656374732f3230323331305f736161735f737461727475702f506978656c4d4c2f2e646576636f6e7461696e65722f646576636f6e7461696e65722e6a736f6e222c22736368656d65223a2266696c65227d7d/workspaces/PixelML/src/cognition/taxi/data_validation.ipynb#W5sdnNjb2RlLXJlbW90ZQ%3D%3D?line=4'>5</a>\u001b[0m eval_stats_file \u001b[39m=\u001b[39m os\u001b[39m.\u001b[39mpath\u001b[39m.\u001b[39mjoin(stats_path, \u001b[39m'\u001b[39m\u001b[39mSplit-eval\u001b[39m\u001b[39m'\u001b[39m, \u001b[39m'\u001b[39m\u001b[39mFeatureStats.pb\u001b[39m\u001b[39m'\u001b[39m)\n",
                        "\u001b[0;31mIndexError\u001b[0m: list index out of range"
                    ]
                }
            ],
            "source": [
                "# configure output paths\n",
                "# Exact paths to output artifacts can also be found on KFP Web UI if you are using kubeflow.\n",
                "stats_path = filtered_stats[-1].uri\n",
                "train_stats_file = os.path.join(stats_path, 'Split-train', 'FeatureStats.pb')\n",
                "eval_stats_file = os.path.join(stats_path, 'Split-eval', 'FeatureStats.pb')\n",
                "print(\"Train stats file:{}, Eval stats file:{}\".format(\n",
                "    train_stats_file, eval_stats_file))\n",
                "\n",
                "schema_file = os.path.join(filtered_schema[-1].uri, 'schema.pbtxt')\n",
                "print(\"Generated schame file:{}\".format(schema_file))\n",
                "anomalies_file = os.path.join(anomalies_artifacts[-1].uri, 'anomalies.pbtxt')\n",
                "print(\"Generated anomalies file:{}\".format(anomalies_file))"
            ]
        },
        {
            "cell_type": "code",
            "execution_count": null,
            "metadata": {},
            "outputs": [],
            "source": [
                "tfdv.load_stats_binary(\"/local/projects/pixelml/artifacts/tfx_pipeline_output/vqa/StatisticsGen/statistics/20/Split-eval/FeatureStats.pb\")"
            ]
        },
        {
            "cell_type": "code",
            "execution_count": null,
            "metadata": {},
            "outputs": [],
            "source": [
                "# load generated statistics from StatisticsGen\n",
                "train_stats = tfdv.load_stats_binary(train_stats_file)\n",
                "eval_stats = tfdv.load_stats_binary(eval_stats_file)\n",
                "tfdv.visualize_statistics(lhs_statistics=train_stats, rhs_statistics=eval_stats,\n",
                "                          lhs_name='TRAIN_DATASET', rhs_name=\"EVAL_DATASET\")"
            ]
        },
        {
            "cell_type": "code",
            "execution_count": null,
            "metadata": {},
            "outputs": [],
            "source": [
                "# load generated schema from SchemaGen\n",
                "schema = tfdv.load_schema_text(schema_file)\n",
                "tfdv.display_schema(schema=schema)"
            ]
        },
        {
            "cell_type": "code",
            "execution_count": null,
            "metadata": {},
            "outputs": [],
            "source": [
                "# load data vaildation result from ExampleValidator\n",
                "anomalies = tfdv.load_anomalies_text(anomalies_file)\n",
                "tfdv.display_anomalies(anomalies)"
            ]
        }
    ],
    "metadata": {
        "kernelspec": {
            "display_name": "Python 3",
            "language": "python",
            "name": "python3"
        },
        "language_info": {
            "codemirror_mode": {
                "name": "ipython",
                "version": 3
            },
            "file_extension": ".py",
            "mimetype": "text/x-python",
            "name": "python",
            "nbconvert_exporter": "python",
            "pygments_lexer": "ipython3",
            "version": "3.9.18"
        },
        "pycharm": {
            "stem_cell": {
                "cell_type": "raw",
                "metadata": {
                    "collapsed": false
                },
                "source": []
            }
        }
    },
    "nbformat": 4,
    "nbformat_minor": 2
}
