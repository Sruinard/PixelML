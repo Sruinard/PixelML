{
 "cells": [
  {
   "cell_type": "code",
   "execution_count": 1,
   "metadata": {},
   "outputs": [
    {
     "name": "stderr",
     "output_type": "stream",
     "text": [
      "2023-10-30 07:38:29.694141: I tensorflow/tsl/cuda/cudart_stub.cc:28] Could not find cuda drivers on your machine, GPU will not be used.\n",
      "2023-10-30 07:38:29.731933: I tensorflow/tsl/cuda/cudart_stub.cc:28] Could not find cuda drivers on your machine, GPU will not be used.\n",
      "2023-10-30 07:38:29.732666: I tensorflow/core/platform/cpu_feature_guard.cc:182] This TensorFlow binary is optimized to use available CPU instructions in performance-critical operations.\n",
      "To enable the following instructions: AVX2 FMA, in other operations, rebuild TensorFlow with the appropriate compiler flags.\n",
      "2023-10-30 07:38:30.648370: W tensorflow/compiler/tf2tensorrt/utils/py_utils.cc:38] TF-TRT Warning: Could not find TensorRT\n"
     ]
    },
    {
     "name": "stdout",
     "output_type": "stream",
     "text": [
      "TF version: 2.13.1\n",
      "TFDV version: 1.14.0\n"
     ]
    }
   ],
   "source": [
    "# import required libs\n",
    "import glob\n",
    "import os\n",
    "\n",
    "import tensorflow as tf\n",
    "import tensorflow_data_validation as tfdv\n",
    "print('TF version: {}'.format(tf.version.VERSION))\n",
    "print('TFDV version: {}'.format(tfdv.version.__version__))"
   ]
  },
  {
   "cell_type": "code",
   "execution_count": 2,
   "metadata": {},
   "outputs": [],
   "source": [
    "# Read artifact information from metadata store.\n",
    "# import beam_dag_runner\n",
    "\n",
    "from tfx.orchestration import metadata\n",
    "from tfx.types import standard_artifacts\n",
    "from ml_metadata.metadata_store.metadata_store import metadata_store_pb2\n",
    "\n",
    "# NOTE: make sure to have forwarded to metadata grpc server in your development/prod server to connect to it.\n",
    "# e.g. kubectl port-forward service/metadata-grpc-service 7000:8080\n",
    "metadata_connection_config = metadata_store_pb2.MetadataStoreClientConfig()\n",
    "metadata_connection_config.host = \"localhost\"\n",
    "metadata_connection_config.port = 7000\n",
    "with metadata.Metadata(metadata_connection_config) as store:\n",
    "    stats_artifacts = store.get_artifacts_by_type(standard_artifacts.ExampleStatistics.TYPE_NAME)\n",
    "    schema_artifacts = store.get_artifacts_by_type(standard_artifacts.Schema.TYPE_NAME)\n",
    "    anomalies_artifacts = store.get_artifacts_by_type(standard_artifacts.ExampleAnomalies.TYPE_NAME)\n"
   ]
  },
  {
   "cell_type": "code",
   "execution_count": 3,
   "metadata": {},
   "outputs": [],
   "source": [
    "filtered_stats = [x for x in stats_artifacts if \"StatisticsGen\" in x.uri]\n",
    "filtered_schema = [x for x in schema_artifacts if \"SchemaGen\" in x.uri]\n"
   ]
  },
  {
   "cell_type": "code",
   "execution_count": 6,
   "metadata": {},
   "outputs": [
    {
     "data": {
      "text/plain": [
       "[id: 2\n",
       " type_id: 19\n",
       " uri: \"/local/taxi/artifacts/tfx_pipeline_output/kubeflow-taxi/StatisticsGen/statistics/5\"\n",
       " properties {\n",
       "   key: \"split_names\"\n",
       "   value {\n",
       "     string_value: \"[\\\"train\\\", \\\"eval\\\"]\"\n",
       "   }\n",
       " }\n",
       " custom_properties {\n",
       "   key: \"is_external\"\n",
       "   value {\n",
       "     int_value: 0\n",
       "   }\n",
       " }\n",
       " custom_properties {\n",
       "   key: \"stats_dashboard_link\"\n",
       "   value {\n",
       "     string_value: \"\"\n",
       "   }\n",
       " }\n",
       " custom_properties {\n",
       "   key: \"tfx_version\"\n",
       "   value {\n",
       "     string_value: \"1.14.0\"\n",
       "   }\n",
       " }\n",
       " state: LIVE\n",
       " create_time_since_epoch: 1698334845186\n",
       " last_update_time_since_epoch: 1698334845186,\n",
       " id: 5\n",
       " type_id: 19\n",
       " uri: \"/local/taxi/artifacts/tfx_pipeline_output/kubeflow-taxi/StatisticsGen/statistics/10\"\n",
       " properties {\n",
       "   key: \"split_names\"\n",
       "   value {\n",
       "     string_value: \"[\\\"train\\\", \\\"eval\\\"]\"\n",
       "   }\n",
       " }\n",
       " custom_properties {\n",
       "   key: \"is_external\"\n",
       "   value {\n",
       "     int_value: 0\n",
       "   }\n",
       " }\n",
       " custom_properties {\n",
       "   key: \"stats_dashboard_link\"\n",
       "   value {\n",
       "     string_value: \"\"\n",
       "   }\n",
       " }\n",
       " custom_properties {\n",
       "   key: \"tfx_version\"\n",
       "   value {\n",
       "     string_value: \"1.14.0\"\n",
       "   }\n",
       " }\n",
       " state: LIVE\n",
       " create_time_since_epoch: 1698335198538\n",
       " last_update_time_since_epoch: 1698335198538,\n",
       " id: 8\n",
       " type_id: 19\n",
       " uri: \"/local/taxi/artifacts/tfx_pipeline_output/kubeflow-taxi/StatisticsGen/statistics/15\"\n",
       " properties {\n",
       "   key: \"split_names\"\n",
       "   value {\n",
       "     string_value: \"[\\\"train\\\", \\\"eval\\\"]\"\n",
       "   }\n",
       " }\n",
       " custom_properties {\n",
       "   key: \"is_external\"\n",
       "   value {\n",
       "     int_value: 0\n",
       "   }\n",
       " }\n",
       " custom_properties {\n",
       "   key: \"stats_dashboard_link\"\n",
       "   value {\n",
       "     string_value: \"\"\n",
       "   }\n",
       " }\n",
       " custom_properties {\n",
       "   key: \"tfx_version\"\n",
       "   value {\n",
       "     string_value: \"1.14.0\"\n",
       "   }\n",
       " }\n",
       " state: LIVE\n",
       " create_time_since_epoch: 1698335894480\n",
       " last_update_time_since_epoch: 1698335894480,\n",
       " id: 11\n",
       " type_id: 19\n",
       " uri: \"/local/taxi/artifacts/tfx_pipeline_output/kubeflow-taxi/StatisticsGen/statistics/20\"\n",
       " properties {\n",
       "   key: \"split_names\"\n",
       "   value {\n",
       "     string_value: \"[\\\"train\\\", \\\"eval\\\"]\"\n",
       "   }\n",
       " }\n",
       " custom_properties {\n",
       "   key: \"is_external\"\n",
       "   value {\n",
       "     int_value: 0\n",
       "   }\n",
       " }\n",
       " custom_properties {\n",
       "   key: \"stats_dashboard_link\"\n",
       "   value {\n",
       "     string_value: \"\"\n",
       "   }\n",
       " }\n",
       " custom_properties {\n",
       "   key: \"tfx_version\"\n",
       "   value {\n",
       "     string_value: \"1.14.0\"\n",
       "   }\n",
       " }\n",
       " state: LIVE\n",
       " create_time_since_epoch: 1698383792739\n",
       " last_update_time_since_epoch: 1698383792739]"
      ]
     },
     "execution_count": 6,
     "metadata": {},
     "output_type": "execute_result"
    }
   ],
   "source": [
    "filtered_stats"
   ]
  },
  {
   "cell_type": "code",
   "execution_count": 9,
   "metadata": {},
   "outputs": [
    {
     "name": "stdout",
     "output_type": "stream",
     "text": [
      "Train stats file:/local/taxi/artifacts/tfx_pipeline_output/kubeflow-taxi/StatisticsGen/statistics/20/Split-train/FeatureStats.pb, Eval stats file:/local/taxi/artifacts/tfx_pipeline_output/kubeflow-taxi/StatisticsGen/statistics/20/Split-eval/FeatureStats.pb\n",
      "Generated schame file:/local/taxi/artifacts/tfx_pipeline_output/kubeflow-taxi/SchemaGen/schema/21/schema.pbtxt\n",
      "Generated anomalies file:/local/taxi/artifacts/tfx_pipeline_output/kubeflow-taxi/Transform/post_transform_anomalies/22/anomalies.pbtxt\n"
     ]
    }
   ],
   "source": [
    "# configure output paths\n",
    "# Exact paths to output artifacts can also be found on KFP Web UI if you are using kubeflow.\n",
    "stats_path = filtered_stats[-1].uri\n",
    "train_stats_file = os.path.join(stats_path, 'Split-train', 'FeatureStats.pb')\n",
    "eval_stats_file = os.path.join(stats_path, 'Split-eval', 'FeatureStats.pb')\n",
    "print(\"Train stats file:{}, Eval stats file:{}\".format(\n",
    "    train_stats_file, eval_stats_file))\n",
    "\n",
    "schema_file = os.path.join(filtered_schema[-1].uri, 'schema.pbtxt')\n",
    "print(\"Generated schame file:{}\".format(schema_file))\n",
    "anomalies_file = os.path.join(anomalies_artifacts[-1].uri, 'anomalies.pbtxt')\n",
    "print(\"Generated anomalies file:{}\".format(anomalies_file))"
   ]
  },
  {
   "cell_type": "code",
   "execution_count": 11,
   "metadata": {},
   "outputs": [
    {
     "ename": "NotFoundError",
     "evalue": "/local/taxi/artifacts/tfx_pipeline_output/kubeflow-taxi/StatisticsGen/statistics/20/Split-eval/FeatureStats.pb; No such file or directory",
     "output_type": "error",
     "traceback": [
      "\u001b[0;31m---------------------------------------------------------------------------\u001b[0m",
      "\u001b[0;31mNotFoundError\u001b[0m                             Traceback (most recent call last)",
      "\u001b[0;32m/tmp/ipykernel_121028/2530919492.py\u001b[0m in \u001b[0;36m<cell line: 1>\u001b[0;34m()\u001b[0m\n\u001b[0;32m----> 1\u001b[0;31m \u001b[0mtfdv\u001b[0m\u001b[0;34m.\u001b[0m\u001b[0mload_stats_binary\u001b[0m\u001b[0;34m(\u001b[0m\u001b[0;34m\"/local/taxi/artifacts/tfx_pipeline_output/kubeflow-taxi/StatisticsGen/statistics/20/Split-eval/FeatureStats.pb\"\u001b[0m\u001b[0;34m)\u001b[0m\u001b[0;34m\u001b[0m\u001b[0;34m\u001b[0m\u001b[0m\n\u001b[0m",
      "\u001b[0;32m/workspaces/PixelML/src/cognition/venv/lib/python3.8/site-packages/tensorflow_data_validation/utils/stats_util.py\u001b[0m in \u001b[0;36mload_stats_binary\u001b[0;34m(input_path)\u001b[0m\n\u001b[1;32m    233\u001b[0m   \"\"\"\n\u001b[1;32m    234\u001b[0m   \u001b[0mstats_proto\u001b[0m \u001b[0;34m=\u001b[0m \u001b[0mstatistics_pb2\u001b[0m\u001b[0;34m.\u001b[0m\u001b[0mDatasetFeatureStatisticsList\u001b[0m\u001b[0;34m(\u001b[0m\u001b[0;34m)\u001b[0m\u001b[0;34m\u001b[0m\u001b[0;34m\u001b[0m\u001b[0m\n\u001b[0;32m--> 235\u001b[0;31m   stats_proto.ParseFromString(io_util.read_file_to_string(\n\u001b[0m\u001b[1;32m    236\u001b[0m       input_path, binary_mode=True))\n\u001b[1;32m    237\u001b[0m   \u001b[0;32mreturn\u001b[0m \u001b[0mstats_proto\u001b[0m\u001b[0;34m\u001b[0m\u001b[0;34m\u001b[0m\u001b[0m\n",
      "\u001b[0;32m/workspaces/PixelML/src/cognition/venv/lib/python3.8/site-packages/tensorflow_data_validation/utils/io_util.py\u001b[0m in \u001b[0;36mread_file_to_string\u001b[0;34m(filename, binary_mode)\u001b[0m\n\u001b[1;32m     50\u001b[0m   \u001b[0;32melse\u001b[0m\u001b[0;34m:\u001b[0m\u001b[0;34m\u001b[0m\u001b[0;34m\u001b[0m\u001b[0m\n\u001b[1;32m     51\u001b[0m     \u001b[0mf\u001b[0m \u001b[0;34m=\u001b[0m \u001b[0mtf\u001b[0m\u001b[0;34m.\u001b[0m\u001b[0mio\u001b[0m\u001b[0;34m.\u001b[0m\u001b[0mgfile\u001b[0m\u001b[0;34m.\u001b[0m\u001b[0mGFile\u001b[0m\u001b[0;34m(\u001b[0m\u001b[0mfilename\u001b[0m\u001b[0;34m,\u001b[0m \u001b[0mmode\u001b[0m\u001b[0;34m=\u001b[0m\u001b[0;34m\"r\"\u001b[0m\u001b[0;34m)\u001b[0m\u001b[0;34m\u001b[0m\u001b[0;34m\u001b[0m\u001b[0m\n\u001b[0;32m---> 52\u001b[0;31m   \u001b[0;32mreturn\u001b[0m \u001b[0mf\u001b[0m\u001b[0;34m.\u001b[0m\u001b[0mread\u001b[0m\u001b[0;34m(\u001b[0m\u001b[0;34m)\u001b[0m\u001b[0;34m\u001b[0m\u001b[0;34m\u001b[0m\u001b[0m\n\u001b[0m\u001b[1;32m     53\u001b[0m \u001b[0;34m\u001b[0m\u001b[0m\n\u001b[1;32m     54\u001b[0m \u001b[0;34m\u001b[0m\u001b[0m\n",
      "\u001b[0;32m/workspaces/PixelML/src/cognition/venv/lib/python3.8/site-packages/tensorflow/python/lib/io/file_io.py\u001b[0m in \u001b[0;36mread\u001b[0;34m(self, n)\u001b[0m\n\u001b[1;32m    114\u001b[0m       \u001b[0mstring\u001b[0m \u001b[0;32mif\u001b[0m \u001b[0;32min\u001b[0m \u001b[0mstring\u001b[0m \u001b[0;34m(\u001b[0m\u001b[0mregular\u001b[0m\u001b[0;34m)\u001b[0m \u001b[0mmode\u001b[0m\u001b[0;34m.\u001b[0m\u001b[0;34m\u001b[0m\u001b[0;34m\u001b[0m\u001b[0m\n\u001b[1;32m    115\u001b[0m     \"\"\"\n\u001b[0;32m--> 116\u001b[0;31m     \u001b[0mself\u001b[0m\u001b[0;34m.\u001b[0m\u001b[0m_preread_check\u001b[0m\u001b[0;34m(\u001b[0m\u001b[0;34m)\u001b[0m\u001b[0;34m\u001b[0m\u001b[0;34m\u001b[0m\u001b[0m\n\u001b[0m\u001b[1;32m    117\u001b[0m     \u001b[0;32mif\u001b[0m \u001b[0mn\u001b[0m \u001b[0;34m==\u001b[0m \u001b[0;34m-\u001b[0m\u001b[0;36m1\u001b[0m\u001b[0;34m:\u001b[0m\u001b[0;34m\u001b[0m\u001b[0;34m\u001b[0m\u001b[0m\n\u001b[1;32m    118\u001b[0m       \u001b[0mlength\u001b[0m \u001b[0;34m=\u001b[0m \u001b[0mself\u001b[0m\u001b[0;34m.\u001b[0m\u001b[0msize\u001b[0m\u001b[0;34m(\u001b[0m\u001b[0;34m)\u001b[0m \u001b[0;34m-\u001b[0m \u001b[0mself\u001b[0m\u001b[0;34m.\u001b[0m\u001b[0mtell\u001b[0m\u001b[0;34m(\u001b[0m\u001b[0;34m)\u001b[0m\u001b[0;34m\u001b[0m\u001b[0;34m\u001b[0m\u001b[0m\n",
      "\u001b[0;32m/workspaces/PixelML/src/cognition/venv/lib/python3.8/site-packages/tensorflow/python/lib/io/file_io.py\u001b[0m in \u001b[0;36m_preread_check\u001b[0;34m(self)\u001b[0m\n\u001b[1;32m     75\u001b[0m         raise errors.PermissionDeniedError(None, None,\n\u001b[1;32m     76\u001b[0m                                            \"File isn't open for reading\")\n\u001b[0;32m---> 77\u001b[0;31m       self._read_buf = _pywrap_file_io.BufferedInputStream(\n\u001b[0m\u001b[1;32m     78\u001b[0m           compat.path_to_str(self.__name), 1024 * 512)\n\u001b[1;32m     79\u001b[0m \u001b[0;34m\u001b[0m\u001b[0m\n",
      "\u001b[0;31mNotFoundError\u001b[0m: /local/taxi/artifacts/tfx_pipeline_output/kubeflow-taxi/StatisticsGen/statistics/20/Split-eval/FeatureStats.pb; No such file or directory"
     ]
    }
   ],
   "source": [
    "tfdv.load_stats_binary(\"/local/taxi/artifacts/tfx_pipeline_output/kubeflow-taxi/StatisticsGen/statistics/20/Split-eval/FeatureStats.pb\")"
   ]
  },
  {
   "cell_type": "code",
   "execution_count": 8,
   "metadata": {},
   "outputs": [
    {
     "ename": "NotFoundError",
     "evalue": "/local/taxi/artifacts/tfx_pipeline_output/kubeflow-taxi/StatisticsGen/statistics/20/train/FeatureStats.pb; No such file or directory",
     "output_type": "error",
     "traceback": [
      "\u001b[0;31m---------------------------------------------------------------------------\u001b[0m",
      "\u001b[0;31mNotFoundError\u001b[0m                             Traceback (most recent call last)",
      "\u001b[0;32m/tmp/ipykernel_121028/3114193085.py\u001b[0m in \u001b[0;36m<cell line: 2>\u001b[0;34m()\u001b[0m\n\u001b[1;32m      1\u001b[0m \u001b[0;31m# load generated statistics from StatisticsGen\u001b[0m\u001b[0;34m\u001b[0m\u001b[0;34m\u001b[0m\u001b[0;34m\u001b[0m\u001b[0m\n\u001b[0;32m----> 2\u001b[0;31m \u001b[0mtrain_stats\u001b[0m \u001b[0;34m=\u001b[0m \u001b[0mtfdv\u001b[0m\u001b[0;34m.\u001b[0m\u001b[0mload_stats_binary\u001b[0m\u001b[0;34m(\u001b[0m\u001b[0mtrain_stats_file\u001b[0m\u001b[0;34m)\u001b[0m\u001b[0;34m\u001b[0m\u001b[0;34m\u001b[0m\u001b[0m\n\u001b[0m\u001b[1;32m      3\u001b[0m \u001b[0meval_stats\u001b[0m \u001b[0;34m=\u001b[0m \u001b[0mtfdv\u001b[0m\u001b[0;34m.\u001b[0m\u001b[0mload_stats_binary\u001b[0m\u001b[0;34m(\u001b[0m\u001b[0meval_stats_file\u001b[0m\u001b[0;34m)\u001b[0m\u001b[0;34m\u001b[0m\u001b[0;34m\u001b[0m\u001b[0m\n\u001b[1;32m      4\u001b[0m tfdv.visualize_statistics(lhs_statistics=train_stats, rhs_statistics=eval_stats,\n\u001b[1;32m      5\u001b[0m                           lhs_name='TRAIN_DATASET', rhs_name=\"EVAL_DATASET\")\n",
      "\u001b[0;32m/workspaces/PixelML/src/cognition/venv/lib/python3.8/site-packages/tensorflow_data_validation/utils/stats_util.py\u001b[0m in \u001b[0;36mload_stats_binary\u001b[0;34m(input_path)\u001b[0m\n\u001b[1;32m    233\u001b[0m   \"\"\"\n\u001b[1;32m    234\u001b[0m   \u001b[0mstats_proto\u001b[0m \u001b[0;34m=\u001b[0m \u001b[0mstatistics_pb2\u001b[0m\u001b[0;34m.\u001b[0m\u001b[0mDatasetFeatureStatisticsList\u001b[0m\u001b[0;34m(\u001b[0m\u001b[0;34m)\u001b[0m\u001b[0;34m\u001b[0m\u001b[0;34m\u001b[0m\u001b[0m\n\u001b[0;32m--> 235\u001b[0;31m   stats_proto.ParseFromString(io_util.read_file_to_string(\n\u001b[0m\u001b[1;32m    236\u001b[0m       input_path, binary_mode=True))\n\u001b[1;32m    237\u001b[0m   \u001b[0;32mreturn\u001b[0m \u001b[0mstats_proto\u001b[0m\u001b[0;34m\u001b[0m\u001b[0;34m\u001b[0m\u001b[0m\n",
      "\u001b[0;32m/workspaces/PixelML/src/cognition/venv/lib/python3.8/site-packages/tensorflow_data_validation/utils/io_util.py\u001b[0m in \u001b[0;36mread_file_to_string\u001b[0;34m(filename, binary_mode)\u001b[0m\n\u001b[1;32m     50\u001b[0m   \u001b[0;32melse\u001b[0m\u001b[0;34m:\u001b[0m\u001b[0;34m\u001b[0m\u001b[0;34m\u001b[0m\u001b[0m\n\u001b[1;32m     51\u001b[0m     \u001b[0mf\u001b[0m \u001b[0;34m=\u001b[0m \u001b[0mtf\u001b[0m\u001b[0;34m.\u001b[0m\u001b[0mio\u001b[0m\u001b[0;34m.\u001b[0m\u001b[0mgfile\u001b[0m\u001b[0;34m.\u001b[0m\u001b[0mGFile\u001b[0m\u001b[0;34m(\u001b[0m\u001b[0mfilename\u001b[0m\u001b[0;34m,\u001b[0m \u001b[0mmode\u001b[0m\u001b[0;34m=\u001b[0m\u001b[0;34m\"r\"\u001b[0m\u001b[0;34m)\u001b[0m\u001b[0;34m\u001b[0m\u001b[0;34m\u001b[0m\u001b[0m\n\u001b[0;32m---> 52\u001b[0;31m   \u001b[0;32mreturn\u001b[0m \u001b[0mf\u001b[0m\u001b[0;34m.\u001b[0m\u001b[0mread\u001b[0m\u001b[0;34m(\u001b[0m\u001b[0;34m)\u001b[0m\u001b[0;34m\u001b[0m\u001b[0;34m\u001b[0m\u001b[0m\n\u001b[0m\u001b[1;32m     53\u001b[0m \u001b[0;34m\u001b[0m\u001b[0m\n\u001b[1;32m     54\u001b[0m \u001b[0;34m\u001b[0m\u001b[0m\n",
      "\u001b[0;32m/workspaces/PixelML/src/cognition/venv/lib/python3.8/site-packages/tensorflow/python/lib/io/file_io.py\u001b[0m in \u001b[0;36mread\u001b[0;34m(self, n)\u001b[0m\n\u001b[1;32m    114\u001b[0m       \u001b[0mstring\u001b[0m \u001b[0;32mif\u001b[0m \u001b[0;32min\u001b[0m \u001b[0mstring\u001b[0m \u001b[0;34m(\u001b[0m\u001b[0mregular\u001b[0m\u001b[0;34m)\u001b[0m \u001b[0mmode\u001b[0m\u001b[0;34m.\u001b[0m\u001b[0;34m\u001b[0m\u001b[0;34m\u001b[0m\u001b[0m\n\u001b[1;32m    115\u001b[0m     \"\"\"\n\u001b[0;32m--> 116\u001b[0;31m     \u001b[0mself\u001b[0m\u001b[0;34m.\u001b[0m\u001b[0m_preread_check\u001b[0m\u001b[0;34m(\u001b[0m\u001b[0;34m)\u001b[0m\u001b[0;34m\u001b[0m\u001b[0;34m\u001b[0m\u001b[0m\n\u001b[0m\u001b[1;32m    117\u001b[0m     \u001b[0;32mif\u001b[0m \u001b[0mn\u001b[0m \u001b[0;34m==\u001b[0m \u001b[0;34m-\u001b[0m\u001b[0;36m1\u001b[0m\u001b[0;34m:\u001b[0m\u001b[0;34m\u001b[0m\u001b[0;34m\u001b[0m\u001b[0m\n\u001b[1;32m    118\u001b[0m       \u001b[0mlength\u001b[0m \u001b[0;34m=\u001b[0m \u001b[0mself\u001b[0m\u001b[0;34m.\u001b[0m\u001b[0msize\u001b[0m\u001b[0;34m(\u001b[0m\u001b[0;34m)\u001b[0m \u001b[0;34m-\u001b[0m \u001b[0mself\u001b[0m\u001b[0;34m.\u001b[0m\u001b[0mtell\u001b[0m\u001b[0;34m(\u001b[0m\u001b[0;34m)\u001b[0m\u001b[0;34m\u001b[0m\u001b[0;34m\u001b[0m\u001b[0m\n",
      "\u001b[0;32m/workspaces/PixelML/src/cognition/venv/lib/python3.8/site-packages/tensorflow/python/lib/io/file_io.py\u001b[0m in \u001b[0;36m_preread_check\u001b[0;34m(self)\u001b[0m\n\u001b[1;32m     75\u001b[0m         raise errors.PermissionDeniedError(None, None,\n\u001b[1;32m     76\u001b[0m                                            \"File isn't open for reading\")\n\u001b[0;32m---> 77\u001b[0;31m       self._read_buf = _pywrap_file_io.BufferedInputStream(\n\u001b[0m\u001b[1;32m     78\u001b[0m           compat.path_to_str(self.__name), 1024 * 512)\n\u001b[1;32m     79\u001b[0m \u001b[0;34m\u001b[0m\u001b[0m\n",
      "\u001b[0;31mNotFoundError\u001b[0m: /local/taxi/artifacts/tfx_pipeline_output/kubeflow-taxi/StatisticsGen/statistics/20/train/FeatureStats.pb; No such file or directory"
     ]
    }
   ],
   "source": [
    "# load generated statistics from StatisticsGen\n",
    "train_stats = tfdv.load_stats_binary(train_stats_file)\n",
    "eval_stats = tfdv.load_stats_binary(eval_stats_file)\n",
    "tfdv.visualize_statistics(lhs_statistics=train_stats, rhs_statistics=eval_stats,\n",
    "                          lhs_name='TRAIN_DATASET', rhs_name=\"EVAL_DATASET\")"
   ]
  },
  {
   "cell_type": "code",
   "execution_count": 12,
   "metadata": {},
   "outputs": [
    {
     "ename": "NotFoundError",
     "evalue": "/local/taxi/artifacts/tfx_pipeline_output/kubeflow-taxi/SchemaGen/schema/21/schema.pbtxt; No such file or directory",
     "output_type": "error",
     "traceback": [
      "\u001b[0;31m---------------------------------------------------------------------------\u001b[0m",
      "\u001b[0;31mNotFoundError\u001b[0m                             Traceback (most recent call last)",
      "\u001b[0;32m/tmp/ipykernel_107551/683806738.py\u001b[0m in \u001b[0;36m<cell line: 2>\u001b[0;34m()\u001b[0m\n\u001b[1;32m      1\u001b[0m \u001b[0;31m# load generated schema from SchemaGen\u001b[0m\u001b[0;34m\u001b[0m\u001b[0;34m\u001b[0m\u001b[0;34m\u001b[0m\u001b[0m\n\u001b[0;32m----> 2\u001b[0;31m \u001b[0mschema\u001b[0m \u001b[0;34m=\u001b[0m \u001b[0mtfdv\u001b[0m\u001b[0;34m.\u001b[0m\u001b[0mload_schema_text\u001b[0m\u001b[0;34m(\u001b[0m\u001b[0mschema_file\u001b[0m\u001b[0;34m)\u001b[0m\u001b[0;34m\u001b[0m\u001b[0;34m\u001b[0m\u001b[0m\n\u001b[0m\u001b[1;32m      3\u001b[0m \u001b[0mtfdv\u001b[0m\u001b[0;34m.\u001b[0m\u001b[0mdisplay_schema\u001b[0m\u001b[0;34m(\u001b[0m\u001b[0mschema\u001b[0m\u001b[0;34m=\u001b[0m\u001b[0mschema\u001b[0m\u001b[0;34m)\u001b[0m\u001b[0;34m\u001b[0m\u001b[0;34m\u001b[0m\u001b[0m\n",
      "\u001b[0;32m/workspaces/PixelML/src/cognition/venv/lib/python3.8/site-packages/tensorflow_data_validation/utils/schema_util.py\u001b[0m in \u001b[0;36mload_schema_text\u001b[0;34m(input_path)\u001b[0m\n\u001b[1;32m    208\u001b[0m   \"\"\"\n\u001b[1;32m    209\u001b[0m   \u001b[0mschema\u001b[0m \u001b[0;34m=\u001b[0m \u001b[0mschema_pb2\u001b[0m\u001b[0;34m.\u001b[0m\u001b[0mSchema\u001b[0m\u001b[0;34m(\u001b[0m\u001b[0;34m)\u001b[0m\u001b[0;34m\u001b[0m\u001b[0;34m\u001b[0m\u001b[0m\n\u001b[0;32m--> 210\u001b[0;31m   \u001b[0mschema_text\u001b[0m \u001b[0;34m=\u001b[0m \u001b[0mio_util\u001b[0m\u001b[0;34m.\u001b[0m\u001b[0mread_file_to_string\u001b[0m\u001b[0;34m(\u001b[0m\u001b[0minput_path\u001b[0m\u001b[0;34m)\u001b[0m\u001b[0;34m\u001b[0m\u001b[0;34m\u001b[0m\u001b[0m\n\u001b[0m\u001b[1;32m    211\u001b[0m   \u001b[0mtext_format\u001b[0m\u001b[0;34m.\u001b[0m\u001b[0mParse\u001b[0m\u001b[0;34m(\u001b[0m\u001b[0mschema_text\u001b[0m\u001b[0;34m,\u001b[0m \u001b[0mschema\u001b[0m\u001b[0;34m)\u001b[0m\u001b[0;34m\u001b[0m\u001b[0;34m\u001b[0m\u001b[0m\n\u001b[1;32m    212\u001b[0m   \u001b[0;32mreturn\u001b[0m \u001b[0mschema\u001b[0m\u001b[0;34m\u001b[0m\u001b[0;34m\u001b[0m\u001b[0m\n",
      "\u001b[0;32m/workspaces/PixelML/src/cognition/venv/lib/python3.8/site-packages/tensorflow_data_validation/utils/io_util.py\u001b[0m in \u001b[0;36mread_file_to_string\u001b[0;34m(filename, binary_mode)\u001b[0m\n\u001b[1;32m     50\u001b[0m   \u001b[0;32melse\u001b[0m\u001b[0;34m:\u001b[0m\u001b[0;34m\u001b[0m\u001b[0;34m\u001b[0m\u001b[0m\n\u001b[1;32m     51\u001b[0m     \u001b[0mf\u001b[0m \u001b[0;34m=\u001b[0m \u001b[0mtf\u001b[0m\u001b[0;34m.\u001b[0m\u001b[0mio\u001b[0m\u001b[0;34m.\u001b[0m\u001b[0mgfile\u001b[0m\u001b[0;34m.\u001b[0m\u001b[0mGFile\u001b[0m\u001b[0;34m(\u001b[0m\u001b[0mfilename\u001b[0m\u001b[0;34m,\u001b[0m \u001b[0mmode\u001b[0m\u001b[0;34m=\u001b[0m\u001b[0;34m\"r\"\u001b[0m\u001b[0;34m)\u001b[0m\u001b[0;34m\u001b[0m\u001b[0;34m\u001b[0m\u001b[0m\n\u001b[0;32m---> 52\u001b[0;31m   \u001b[0;32mreturn\u001b[0m \u001b[0mf\u001b[0m\u001b[0;34m.\u001b[0m\u001b[0mread\u001b[0m\u001b[0;34m(\u001b[0m\u001b[0;34m)\u001b[0m\u001b[0;34m\u001b[0m\u001b[0;34m\u001b[0m\u001b[0m\n\u001b[0m\u001b[1;32m     53\u001b[0m \u001b[0;34m\u001b[0m\u001b[0m\n\u001b[1;32m     54\u001b[0m \u001b[0;34m\u001b[0m\u001b[0m\n",
      "\u001b[0;32m/workspaces/PixelML/src/cognition/venv/lib/python3.8/site-packages/tensorflow/python/lib/io/file_io.py\u001b[0m in \u001b[0;36mread\u001b[0;34m(self, n)\u001b[0m\n\u001b[1;32m    114\u001b[0m       \u001b[0mstring\u001b[0m \u001b[0;32mif\u001b[0m \u001b[0;32min\u001b[0m \u001b[0mstring\u001b[0m \u001b[0;34m(\u001b[0m\u001b[0mregular\u001b[0m\u001b[0;34m)\u001b[0m \u001b[0mmode\u001b[0m\u001b[0;34m.\u001b[0m\u001b[0;34m\u001b[0m\u001b[0;34m\u001b[0m\u001b[0m\n\u001b[1;32m    115\u001b[0m     \"\"\"\n\u001b[0;32m--> 116\u001b[0;31m     \u001b[0mself\u001b[0m\u001b[0;34m.\u001b[0m\u001b[0m_preread_check\u001b[0m\u001b[0;34m(\u001b[0m\u001b[0;34m)\u001b[0m\u001b[0;34m\u001b[0m\u001b[0;34m\u001b[0m\u001b[0m\n\u001b[0m\u001b[1;32m    117\u001b[0m     \u001b[0;32mif\u001b[0m \u001b[0mn\u001b[0m \u001b[0;34m==\u001b[0m \u001b[0;34m-\u001b[0m\u001b[0;36m1\u001b[0m\u001b[0;34m:\u001b[0m\u001b[0;34m\u001b[0m\u001b[0;34m\u001b[0m\u001b[0m\n\u001b[1;32m    118\u001b[0m       \u001b[0mlength\u001b[0m \u001b[0;34m=\u001b[0m \u001b[0mself\u001b[0m\u001b[0;34m.\u001b[0m\u001b[0msize\u001b[0m\u001b[0;34m(\u001b[0m\u001b[0;34m)\u001b[0m \u001b[0;34m-\u001b[0m \u001b[0mself\u001b[0m\u001b[0;34m.\u001b[0m\u001b[0mtell\u001b[0m\u001b[0;34m(\u001b[0m\u001b[0;34m)\u001b[0m\u001b[0;34m\u001b[0m\u001b[0;34m\u001b[0m\u001b[0m\n",
      "\u001b[0;32m/workspaces/PixelML/src/cognition/venv/lib/python3.8/site-packages/tensorflow/python/lib/io/file_io.py\u001b[0m in \u001b[0;36m_preread_check\u001b[0;34m(self)\u001b[0m\n\u001b[1;32m     75\u001b[0m         raise errors.PermissionDeniedError(None, None,\n\u001b[1;32m     76\u001b[0m                                            \"File isn't open for reading\")\n\u001b[0;32m---> 77\u001b[0;31m       self._read_buf = _pywrap_file_io.BufferedInputStream(\n\u001b[0m\u001b[1;32m     78\u001b[0m           compat.path_to_str(self.__name), 1024 * 512)\n\u001b[1;32m     79\u001b[0m \u001b[0;34m\u001b[0m\u001b[0m\n",
      "\u001b[0;31mNotFoundError\u001b[0m: /local/taxi/artifacts/tfx_pipeline_output/kubeflow-taxi/SchemaGen/schema/21/schema.pbtxt; No such file or directory"
     ]
    }
   ],
   "source": [
    "# load generated schema from SchemaGen\n",
    "schema = tfdv.load_schema_text(schema_file)\n",
    "tfdv.display_schema(schema=schema)"
   ]
  },
  {
   "cell_type": "code",
   "execution_count": null,
   "metadata": {},
   "outputs": [],
   "source": [
    "# load data vaildation result from ExampleValidator\n",
    "anomalies = tfdv.load_anomalies_text(anomalies_file)\n",
    "tfdv.display_anomalies(anomalies)"
   ]
  }
 ],
 "metadata": {
  "kernelspec": {
   "display_name": "Python 3",
   "language": "python",
   "name": "python3"
  },
  "language_info": {
   "codemirror_mode": {
    "name": "ipython",
    "version": 3
   },
   "file_extension": ".py",
   "mimetype": "text/x-python",
   "name": "python",
   "nbconvert_exporter": "python",
   "pygments_lexer": "ipython3",
   "version": "3.8.18"
  },
  "pycharm": {
   "stem_cell": {
    "cell_type": "raw",
    "metadata": {
     "collapsed": false
    },
    "source": []
   }
  }
 },
 "nbformat": 4,
 "nbformat_minor": 2
}
